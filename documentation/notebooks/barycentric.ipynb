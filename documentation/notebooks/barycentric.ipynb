{
 "cells": [
  {
   "cell_type": "markdown",
   "metadata": {},
   "source": [
    "# Code generation for barycentric coordinates\n",
    "\n",
    "This notebook consists of two main parts, both used in `ocellaris/utils/taylor_basis.py` for Lagrange to Taylor and Taylor to Lagrange transformations for discontinuous Galerkin shape functions on simplices.\n",
    "\n",
    "**1: Code generation for quadratic barycentric shape functions**\n",
    "\n",
    "Given a triangle/tetrahedron with barycentric coordinates, find the linear and quadratic shape functions. We here work only in barycentric coordinates. The linear basis functions should be the coordinates themselves and the interesting part is the quadratic shape functions\n",
    "\n",
    "**2: Code generation for the cartesian to barycentric transformation**\n",
    "\n",
    "Given cartesian coordinates of all cell vertices, compute the barycentric coordinate transformation for an arbitrary point inside the cell. This is done for 2D (fast) and 3D (dog slow)"
   ]
  },
  {
   "cell_type": "code",
   "execution_count": 1,
   "metadata": {
    "collapsed": false
   },
   "outputs": [],
   "source": [
    "import time\n",
    "from IPython.display import display, HTML\n",
    "import numpy\n",
    "from matplotlib import pyplot\n",
    "import sympy\n",
    "from sympy import *\n",
    "sympy.init_printing(use_latex=True)\n",
    "%matplotlib inline"
   ]
  },
  {
   "cell_type": "markdown",
   "metadata": {},
   "source": [
    "## Barycentric basis functions in 2D"
   ]
  },
  {
   "cell_type": "code",
   "execution_count": 2,
   "metadata": {
    "collapsed": false
   },
   "outputs": [
    {
     "data": {
      "text/html": [
       "<b>Barycentric basis in 2D of order 1</b>"
      ],
      "text/plain": [
       "<IPython.core.display.HTML object>"
      ]
     },
     "metadata": {},
     "output_type": "display_data"
    },
    {
     "data": {
      "image/png": "[encoded data removed]",
      "text/latex": [
       "$$B_{0} = L_{1}$$"
      ],
      "text/plain": [
       "B₀ = L₁"
      ]
     },
     "metadata": {},
     "output_type": "display_data"
    },
    {
     "data": {
      "image/png": "[encoded data removed]",
      "text/latex": [
       "$$B_{1} = L_{2}$$"
      ],
      "text/plain": [
       "B₁ = L₂"
      ]
     },
     "metadata": {},
     "output_type": "display_data"
    },
    {
     "data": {
      "image/png": "[encoded data removed]",
      "text/latex": [
       "$$B_{2} = L_{3}$$"
      ],
      "text/plain": [
       "B₂ = L₃"
      ]
     },
     "metadata": {},
     "output_type": "display_data"
    },
    {
     "data": {
      "text/html": [
       "<b>Barycentric basis in 2D of order 2</b>"
      ],
      "text/plain": [
       "<IPython.core.display.HTML object>"
      ]
     },
     "metadata": {},
     "output_type": "display_data"
    },
    {
     "data": {
      "image/png": "[encoded data removed]",
      "text/latex": [
       "$$B_{0} = L_{1} \\left(2 L_{1} - 1\\right)$$"
      ],
      "text/plain": [
       "B₀ = L₁⋅(2⋅L₁ - 1)"
      ]
     },
     "metadata": {},
     "output_type": "display_data"
    },
    {
     "data": {
      "image/png": "[encoded data removed]",
      "text/latex": [
       "$$B_{1} = L_{2} \\left(2 L_{2} - 1\\right)$$"
      ],
      "text/plain": [
       "B₁ = L₂⋅(2⋅L₂ - 1)"
      ]
     },
     "metadata": {},
     "output_type": "display_data"
    },
    {
     "data": {
      "image/png": "[encoded data removed]",
      "text/latex": [
       "$$B_{2} = L_{3} \\left(2 L_{3} - 1\\right)$$"
      ],
      "text/plain": [
       "B₂ = L₃⋅(2⋅L₃ - 1)"
      ]
     },
     "metadata": {},
     "output_type": "display_data"
    },
    {
     "data": {
      "image/png": "[encoded data removed]",
      "text/latex": [
       "$$B_{3} = 4 L_{2} L_{3}$$"
      ],
      "text/plain": [
       "B₃ = 4⋅L₂⋅L₃"
      ]
     },
     "metadata": {},
     "output_type": "display_data"
    },
    {
     "data": {
      "image/png": "[encoded data removed]",
      "text/latex": [
       "$$B_{4} = 4 L_{1} L_{3}$$"
      ],
      "text/plain": [
       "B₄ = 4⋅L₁⋅L₃"
      ]
     },
     "metadata": {},
     "output_type": "display_data"
    },
    {
     "data": {
      "image/png": "[encoded data removed]",
      "text/latex": [
       "$$B_{5} = 4 L_{1} L_{2}$$"
      ],
      "text/plain": [
       "B₅ = 4⋅L₁⋅L₂"
      ]
     },
     "metadata": {},
     "output_type": "display_data"
    }
   ],
   "source": [
    "barycentric_basis = {}\n",
    "\n",
    "for P in (1, 2):\n",
    "    display(HTML('<b>Barycentric basis in 2D of order %d</b>' % P))\n",
    "    D = 2\n",
    "    N = D + 1\n",
    "    M = N*P\n",
    "\n",
    "    # Define the barycentric coordinates L\n",
    "    Ls = list(symbols('L_(1:%d)' % N))\n",
    "    Ls.append(1 - sum(Ls))\n",
    "\n",
    "    # Define the coeffcients of the basis functions, C\n",
    "    Cs = symbols('C_(1:%d)' % (1 + M*M))\n",
    "    \n",
    "    # DOF locations\n",
    "    w = 1/S(2)\n",
    "    locs = [(1, 0, 0), (0, 1, 0), (0, 0, 1), (0, w, w), (w, 0, w), (w, w, 0)][:M]\n",
    "\n",
    "    # Create the linear basis\n",
    "    Bs = []\n",
    "    for i in range(M):\n",
    "        cs = Cs[i*M:(i + 1)*M]\n",
    "        if P == 1:\n",
    "            Bs.append(cs[0] + cs[1]*Ls[0] + cs[2]*Ls[1])\n",
    "        else:\n",
    "            Bs.append(cs[0] + cs[1]*Ls[0] + cs[2]*Ls[1] + cs[3]*Ls[0]**2 + cs[4]*Ls[1]**2 + cs[5]*Ls[0]*Ls[1])\n",
    "\n",
    "    # Conditions on the basis, Bi(xj) = delta_j(xj)\n",
    "    eqs = []\n",
    "    for iloc, loc in enumerate(locs):\n",
    "        subs = {Ls[i]: loc[i] for i in range(N)}\n",
    "        for jb in range(M):\n",
    "            rhs = 1 if iloc == jb else 0\n",
    "            eqs.append((Bs[jb] - rhs).subs(subs))\n",
    "\n",
    "    # Find the coefficients of the basis\n",
    "    sol = solve(eqs, Cs)\n",
    "    Ln = Symbol('L_%d' % N)\n",
    "    Lnsubs = {Ls[-1]: Ln}\n",
    "    Bsol = []\n",
    "    for i in range(M):\n",
    "        Bi = Bs[i]\n",
    "        Bi = factor(Bi).subs(Lnsubs).simplify().subs(Lnsubs)\n",
    "        Bi = Bi.subs(sol)\n",
    "        Bi = factor(Bi).subs(Lnsubs).simplify().subs(Lnsubs)\n",
    "        Bi = Bi.subs(2*Ls[-1] - 1, 2*Ln -1)\n",
    "        Bsol.append(Bi.simplify())\n",
    "        display(Eq(Symbol('B_%d' % i), Bsol[-1]))\n",
    "    \n",
    "    barycentric_basis[(D, P)] = Bsol, Ls[:-1] + [Ln]\n"
   ]
  },
  {
   "cell_type": "markdown",
   "metadata": {},
   "source": [
    "## Barycentric basis functions in 3D"
   ]
  },
  {
   "cell_type": "code",
   "execution_count": 3,
   "metadata": {
    "collapsed": false
   },
   "outputs": [
    {
     "data": {
      "text/html": [
       "<b>Barycentric basis in 3D of order 1</b>"
      ],
      "text/plain": [
       "<IPython.core.display.HTML object>"
      ]
     },
     "metadata": {},
     "output_type": "display_data"
    },
    {
     "data": {
      "image/png": "[encoded data removed]",
      "text/latex": [
       "$$B_{0} = L_{1}$$"
      ],
      "text/plain": [
       "B₀ = L₁"
      ]
     },
     "metadata": {},
     "output_type": "display_data"
    },
    {
     "data": {
      "image/png": "[encoded data removed]",
      "text/latex": [
       "$$B_{1} = L_{2}$$"
      ],
      "text/plain": [
       "B₁ = L₂"
      ]
     },
     "metadata": {},
     "output_type": "display_data"
    },
    {
     "data": {
      "image/png": "[encoded data removed]",
      "text/latex": [
       "$$B_{2} = L_{3}$$"
      ],
      "text/plain": [
       "B₂ = L₃"
      ]
     },
     "metadata": {},
     "output_type": "display_data"
    },
    {
     "data": {
      "image/png": "[encoded data removed]",
      "text/latex": [
       "$$B_{3} = L_{4}$$"
      ],
      "text/plain": [
       "B₃ = L₄"
      ]
     },
     "metadata": {},
     "output_type": "display_data"
    },
    {
     "data": {
      "text/html": [
       "<b>Barycentric basis in 3D of order 2</b>"
      ],
      "text/plain": [
       "<IPython.core.display.HTML object>"
      ]
     },
     "metadata": {},
     "output_type": "display_data"
    },
    {
     "data": {
      "image/png": "[encoded data removed]",
      "text/latex": [
       "$$B_{0} = L_{1} \\left(2 L_{1} - 1\\right)$$"
      ],
      "text/plain": [
       "B₀ = L₁⋅(2⋅L₁ - 1)"
      ]
     },
     "metadata": {},
     "output_type": "display_data"
    },
    {
     "data": {
      "image/png": "[encoded data removed]",
      "text/latex": [
       "$$B_{1} = L_{2} \\left(2 L_{2} - 1\\right)$$"
      ],
      "text/plain": [
       "B₁ = L₂⋅(2⋅L₂ - 1)"
      ]
     },
     "metadata": {},
     "output_type": "display_data"
    },
    {
     "data": {
      "image/png": "[encoded data removed]",
      "text/latex": [
       "$$B_{2} = L_{3} \\left(2 L_{3} - 1\\right)$$"
      ],
      "text/plain": [
       "B₂ = L₃⋅(2⋅L₃ - 1)"
      ]
     },
     "metadata": {},
     "output_type": "display_data"
    },
    {
     "data": {
      "image/png": "[encoded data removed]",
      "text/latex": [
       "$$B_{3} = L_{4} \\left(2 L_{4} - 1\\right)$$"
      ],
      "text/plain": [
       "B₃ = L₄⋅(2⋅L₄ - 1)"
      ]
     },
     "metadata": {},
     "output_type": "display_data"
    },
    {
     "data": {
      "image/png": "[encoded data removed]",
      "text/latex": [
       "$$B_{4} = 4 L_{3} L_{4}$$"
      ],
      "text/plain": [
       "B₄ = 4⋅L₃⋅L₄"
      ]
     },
     "metadata": {},
     "output_type": "display_data"
    },
    {
     "data": {
      "image/png": "[encoded data removed]",
      "text/latex": [
       "$$B_{5} = 4 L_{2} L_{4}$$"
      ],
      "text/plain": [
       "B₅ = 4⋅L₂⋅L₄"
      ]
     },
     "metadata": {},
     "output_type": "display_data"
    },
    {
     "data": {
      "image/png": "[encoded data removed]",
      "text/latex": [
       "$$B_{6} = 4 L_{2} L_{3}$$"
      ],
      "text/plain": [
       "B₆ = 4⋅L₂⋅L₃"
      ]
     },
     "metadata": {},
     "output_type": "display_data"
    },
    {
     "data": {
      "image/png": "[encoded data removed]",
      "text/latex": [
       "$$B_{7} = 4 L_{1} L_{4}$$"
      ],
      "text/plain": [
       "B₇ = 4⋅L₁⋅L₄"
      ]
     },
     "metadata": {},
     "output_type": "display_data"
    },
    {
     "data": {
      "image/png": "[encoded data removed]",
      "text/latex": [
       "$$B_{8} = 4 L_{1} L_{3}$$"
      ],
      "text/plain": [
       "B₈ = 4⋅L₁⋅L₃"
      ]
     },
     "metadata": {},
     "output_type": "display_data"
    },
    {
     "data": {
      "image/png": "[encoded data removed]",
      "text/latex": [
       "$$B_{9} = 4 L_{1} L_{2}$$"
      ],
      "text/plain": [
       "B₉ = 4⋅L₁⋅L₂"
      ]
     },
     "metadata": {},
     "output_type": "display_data"
    }
   ],
   "source": [
    "for P in (1, 2):\n",
    "    display(HTML('<b>Barycentric basis in 3D of order %d</b>' % P))\n",
    "    D = 3\n",
    "    N = D + 1\n",
    "    M = 4 if P == 1 else 10\n",
    "\n",
    "    # Define the barycentric coordinates L\n",
    "    Ls = list(symbols('L_(1:%d)' % N))\n",
    "    Ls.append(1 - sum(Ls))\n",
    "\n",
    "    # Define the coeffcients of the basis functions, C\n",
    "    Cs = symbols('C_(1:%d)' % (1 + M*M))\n",
    "    \n",
    "    # DOF locations\n",
    "    w = 1/S(2)\n",
    "    locs = [(1, 0, 0, 0), (0, 1, 0, 0), (0, 0, 1, 0), (0, 0, 0, 1), (0, 0, w, w),\n",
    "            (0, w, 0, w), (0, w, w, 0), (w, 0, 0, w), (w, 0, w, 0), (w, w, 0, 0)][:M]\n",
    "\n",
    "    # Create the linear basis\n",
    "    Bs = []\n",
    "    for i in range(M):\n",
    "        cs = Cs[i*M:(i + 1)*M]\n",
    "        if P == 1:\n",
    "            Bs.append(cs[0] + cs[1]*Ls[0] + cs[2]*Ls[1] + cs[3]*Ls[2])\n",
    "        else:\n",
    "            Bs.append(cs[0] + cs[1]*Ls[0] + cs[2]*Ls[1] + cs[3]*Ls[2] +\n",
    "                      cs[4]*Ls[0]**2 + cs[5]*Ls[1]**2 + cs[6]*Ls[2]**2 +\n",
    "                      cs[7]*Ls[0]*Ls[1] + cs[8]*Ls[0]*Ls[2] + cs[9]*Ls[1]*Ls[2])\n",
    "\n",
    "    # Conditions on the basis, Bi(xj) = delta_j(xj)\n",
    "    eqs = []\n",
    "    for iloc, loc in enumerate(locs):\n",
    "        subs = {Ls[i]: loc[i] for i in range(N)}\n",
    "        for jb in range(M):\n",
    "            rhs = 1 if iloc == jb else 0\n",
    "            eqs.append((Bs[jb] - rhs).subs(subs))\n",
    "\n",
    "    # Find the coefficients of the basis\n",
    "    sol = solve(eqs, Cs)\n",
    "    Ln = Symbol('L_%d' % N)\n",
    "    Lnsubs = {Ls[-1]: Ln}\n",
    "    Bsol = []\n",
    "    for i in range(M):\n",
    "        Bi = Bs[i]\n",
    "        Bi = factor(Bi).subs(Lnsubs).simplify().subs(Lnsubs)\n",
    "        Bi = Bi.subs(sol)\n",
    "        Bi = factor(Bi).subs(Lnsubs).simplify().subs(Lnsubs)\n",
    "        Bi = Bi.subs(2*Ls[-1] - 1, 2*Ln -1)\n",
    "        Bsol.append(Bi.simplify())\n",
    "        display(Eq(Symbol('B_%d' % i), Bsol[-1]))\n",
    "    \n",
    "    barycentric_basis[(D, P)] = Bsol, Ls[:-1] + [Ln]\n"
   ]
  },
  {
   "cell_type": "markdown",
   "metadata": {},
   "source": [
    "## Code generation"
   ]
  },
  {
   "cell_type": "code",
   "execution_count": 4,
   "metadata": {
    "collapsed": false
   },
   "outputs": [
    {
     "data": {
      "text/html": [
       "<b>Code for 2D, order 1"
      ],
      "text/plain": [
       "<IPython.core.display.HTML object>"
      ]
     },
     "metadata": {},
     "output_type": "display_data"
    },
    {
     "data": {
      "text/html": [
       "<pre>phi[0] = L1\n",
       "phi[1] = L2\n",
       "phi[2] = L3</pre>"
      ],
      "text/plain": [
       "<IPython.core.display.HTML object>"
      ]
     },
     "metadata": {},
     "output_type": "display_data"
    },
    {
     "data": {
      "text/html": [
       "<b>Code for 2D, order 2"
      ],
      "text/plain": [
       "<IPython.core.display.HTML object>"
      ]
     },
     "metadata": {},
     "output_type": "display_data"
    },
    {
     "data": {
      "text/html": [
       "<pre>phi[0] = L1*(2*L1 - 1)\n",
       "phi[1] = L2*(2*L2 - 1)\n",
       "phi[2] = L3*(2*L3 - 1)\n",
       "phi[3] = 4*L2*L3\n",
       "phi[4] = 4*L1*L3\n",
       "phi[5] = 4*L1*L2</pre>"
      ],
      "text/plain": [
       "<IPython.core.display.HTML object>"
      ]
     },
     "metadata": {},
     "output_type": "display_data"
    },
    {
     "data": {
      "text/html": [
       "<b>Code for 3D, order 1"
      ],
      "text/plain": [
       "<IPython.core.display.HTML object>"
      ]
     },
     "metadata": {},
     "output_type": "display_data"
    },
    {
     "data": {
      "text/html": [
       "<pre>phi[0] = L1\n",
       "phi[1] = L2\n",
       "phi[2] = L3\n",
       "phi[3] = L4</pre>"
      ],
      "text/plain": [
       "<IPython.core.display.HTML object>"
      ]
     },
     "metadata": {},
     "output_type": "display_data"
    },
    {
     "data": {
      "text/html": [
       "<b>Code for 3D, order 2"
      ],
      "text/plain": [
       "<IPython.core.display.HTML object>"
      ]
     },
     "metadata": {},
     "output_type": "display_data"
    },
    {
     "data": {
      "text/html": [
       "<pre>phi[0] = L1*(2*L1 - 1)\n",
       "phi[1] = L2*(2*L2 - 1)\n",
       "phi[2] = L3*(2*L3 - 1)\n",
       "phi[3] = L4*(2*L4 - 1)\n",
       "phi[4] = 4*L3*L4\n",
       "phi[5] = 4*L2*L4\n",
       "phi[6] = 4*L2*L3\n",
       "phi[7] = 4*L1*L4\n",
       "phi[8] = 4*L1*L3\n",
       "phi[9] = 4*L1*L2</pre>"
      ],
      "text/plain": [
       "<IPython.core.display.HTML object>"
      ]
     },
     "metadata": {},
     "output_type": "display_data"
    }
   ],
   "source": [
    "def tocode(Bi):\n",
    "    s = str(Bi)\n",
    "    s = s.replace('L_1', 'L1')\n",
    "    s = s.replace('L_2', 'L2')\n",
    "    s = s.replace('L_3', 'L3')\n",
    "    s = s.replace('L_4', 'L4')\n",
    "    return s\n",
    "\n",
    "for k, (Bs, Ls) in barycentric_basis.items():\n",
    "    display(HTML('<b>Code for %dD, order %d' % k))\n",
    "    s = '\\n'.join('phi[%d] = %s' % (i, tocode(Bi)) for i, Bi in enumerate(Bs))\n",
    "    display(HTML('<pre>' + s + '</pre>'))"
   ]
  },
  {
   "cell_type": "markdown",
   "metadata": {},
   "source": [
    "## Compute barycentric coordinates from cartesian vertex coordinates"
   ]
  },
  {
   "cell_type": "code",
   "execution_count": 5,
   "metadata": {
    "collapsed": false
   },
   "outputs": [
    {
     "data": {
      "text/html": [
       "<h3>Cartesian to barycentric 2D</h3>"
      ],
      "text/plain": [
       "<IPython.core.display.HTML object>"
      ]
     },
     "metadata": {},
     "output_type": "display_data"
    },
    {
     "data": {
      "text/latex": [
       "$$N_\\text{eq} = 6$$"
      ],
      "text/plain": [
       "N_\\text{eq} = 6"
      ]
     },
     "metadata": {},
     "output_type": "display_data"
    },
    {
     "data": {
      "text/latex": [
       "$$N_\\text{Cs} = 6$$"
      ],
      "text/plain": [
       "N_\\text{Cs} = 6"
      ]
     },
     "metadata": {},
     "output_type": "display_data"
    },
    {
     "data": {
      "text/html": [
       "<b style=\"color:#999900\">This is going to take some time, especially in 3D ...</b>"
      ],
      "text/plain": [
       "<IPython.core.display.HTML object>"
      ]
     },
     "metadata": {},
     "output_type": "display_data"
    },
    {
     "data": {
      "image/png": "[encoded data removed]",
      "text/latex": [
       "$$F = x_{1} y_{2} - x_{1} y_{3} - x_{2} y_{1} + x_{2} y_{3} + x_{3} y_{1} - x_{3} y_{2}$$"
      ],
      "text/plain": [
       "F = x₁⋅y₂ - x₁⋅y₃ - x₂⋅y₁ + x₂⋅y₃ + x₃⋅y₁ - x₃⋅y₂"
      ]
     },
     "metadata": {},
     "output_type": "display_data"
    },
    {
     "data": {
      "image/png": "[encoded data removed]",
      "text/latex": [
       "$$L_{0} = \\frac{1}{F} \\left(x y_{2} - x y_{3} - x_{2} y + x_{2} y_{3} + x_{3} y - x_{3} y_{2}\\right)$$"
      ],
      "text/plain": [
       "     x⋅y₂ - x⋅y₃ - x₂⋅y + x₂⋅y₃ + x₃⋅y - x₃⋅y₂\n",
       "L₀ = ─────────────────────────────────────────\n",
       "                         F                    "
      ]
     },
     "metadata": {},
     "output_type": "display_data"
    },
    {
     "data": {
      "image/png": "[encoded data removed]",
      "text/latex": [
       "$$L_{1} = - \\frac{1}{F} \\left(x y_{1} - x y_{3} - x_{1} y + x_{1} y_{3} + x_{3} y - x_{3} y_{1}\\right)$$"
      ],
      "text/plain": [
       "     -(x⋅y₁ - x⋅y₃ - x₁⋅y + x₁⋅y₃ + x₃⋅y - x₃⋅y₁) \n",
       "L₁ = ─────────────────────────────────────────────\n",
       "                           F                      "
      ]
     },
     "metadata": {},
     "output_type": "display_data"
    },
    {
     "data": {
      "image/png": "[encoded data removed]",
      "text/latex": [
       "$$L_{2} = \\frac{1}{F} \\left(x y_{1} - x y_{2} - x_{1} y + x_{1} y_{2} + x_{2} y - x_{2} y_{1}\\right)$$"
      ],
      "text/plain": [
       "     x⋅y₁ - x⋅y₂ - x₁⋅y + x₁⋅y₂ + x₂⋅y - x₂⋅y₁\n",
       "L₂ = ─────────────────────────────────────────\n",
       "                         F                    "
      ]
     },
     "metadata": {},
     "output_type": "display_data"
    },
    {
     "data": {
      "text/html": [
       "<b style=\"color:#009900\">Done in 2.23 seconds</b>"
      ],
      "text/plain": [
       "<IPython.core.display.HTML object>"
      ]
     },
     "metadata": {},
     "output_type": "display_data"
    },
    {
     "data": {
      "text/html": [
       "<h3>Cartesian to barycentric 3D</h3>"
      ],
      "text/plain": [
       "<IPython.core.display.HTML object>"
      ]
     },
     "metadata": {},
     "output_type": "display_data"
    },
    {
     "data": {
      "text/latex": [
       "$$N_\\text{eq} = 12$$"
      ],
      "text/plain": [
       "N_\\text{eq} = 12"
      ]
     },
     "metadata": {},
     "output_type": "display_data"
    },
    {
     "data": {
      "text/latex": [
       "$$N_\\text{Cs} = 12$$"
      ],
      "text/plain": [
       "N_\\text{Cs} = 12"
      ]
     },
     "metadata": {},
     "output_type": "display_data"
    },
    {
     "data": {
      "text/html": [
       "<b style=\"color:#999900\">This is going to take some time, especially in 3D ...</b>"
      ],
      "text/plain": [
       "<IPython.core.display.HTML object>"
      ]
     },
     "metadata": {},
     "output_type": "display_data"
    },
    {
     "data": {
      "image/png": "[encoded data removed]",
      "text/latex": [
       "$$F = x_{1} y_{2} z_{3} - x_{1} y_{2} z_{4} - x_{1} y_{3} z_{2} + x_{1} y_{3} z_{4} + x_{1} y_{4} z_{2} - x_{1} y_{4} z_{3} - x_{2} y_{1} z_{3} + x_{2} y_{1} z_{4} + x_{2} y_{3} z_{1} - x_{2} y_{3} z_{4} - x_{2} y_{4} z_{1} + x_{2} y_{4} z_{3} + x_{3} y_{1} z_{2} - x_{3} y_{1} z_{4} - x_{3} y_{2} z_{1} + x_{3} y_{2} z_{4} + x_{3} y_{4} z_{1} - x_{3} y_{4} z_{2} - x_{4} y_{1} z_{2} + x_{4} y_{1} z_{3} + x_{4} y_{2} z_{1} - x_{4} y_{2} z_{3} - x_{4} y_{3} z_{1} + x_{4} y_{3} z_{2}$$"
      ],
      "text/plain": [
       "F = x₁⋅y₂⋅z₃ - x₁⋅y₂⋅z₄ - x₁⋅y₃⋅z₂ + x₁⋅y₃⋅z₄ + x₁⋅y₄⋅z₂ - x₁⋅y₄⋅z₃ - x₂⋅y₁⋅z₃\n",
       " + x₂⋅y₁⋅z₄ + x₂⋅y₃⋅z₁ - x₂⋅y₃⋅z₄ - x₂⋅y₄⋅z₁ + x₂⋅y₄⋅z₃ + x₃⋅y₁⋅z₂ - x₃⋅y₁⋅z₄ \n",
       "- x₃⋅y₂⋅z₁ + x₃⋅y₂⋅z₄ + x₃⋅y₄⋅z₁ - x₃⋅y₄⋅z₂ - x₄⋅y₁⋅z₂ + x₄⋅y₁⋅z₃ + x₄⋅y₂⋅z₁ -\n",
       " x₄⋅y₂⋅z₃ - x₄⋅y₃⋅z₁ + x₄⋅y₃⋅z₂"
      ]
     },
     "metadata": {},
     "output_type": "display_data"
    },
    {
     "data": {
      "image/png": "[encoded data removed]",
      "text/latex": [
       "$$L_{0} = \\frac{1}{F} \\left(x y_{2} z_{3} - x y_{2} z_{4} - x y_{3} z_{2} + x y_{3} z_{4} + x y_{4} z_{2} - x y_{4} z_{3} - x_{2} y z_{3} + x_{2} y z_{4} + x_{2} y_{3} z - x_{2} y_{3} z_{4} - x_{2} y_{4} z + x_{2} y_{4} z_{3} + x_{3} y z_{2} - x_{3} y z_{4} - x_{3} y_{2} z + x_{3} y_{2} z_{4} + x_{3} y_{4} z - x_{3} y_{4} z_{2} - x_{4} y z_{2} + x_{4} y z_{3} + x_{4} y_{2} z - x_{4} y_{2} z_{3} - x_{4} y_{3} z + x_{4} y_{3} z_{2}\\right)$$"
      ],
      "text/plain": [
       "     x⋅y₂⋅z₃ - x⋅y₂⋅z₄ - x⋅y₃⋅z₂ + x⋅y₃⋅z₄ + x⋅y₄⋅z₂ - x⋅y₄⋅z₃ - x₂⋅y⋅z₃ + x₂⋅\n",
       "L₀ = ─────────────────────────────────────────────────────────────────────────\n",
       "                                                                              \n",
       "\n",
       "y⋅z₄ + x₂⋅y₃⋅z - x₂⋅y₃⋅z₄ - x₂⋅y₄⋅z + x₂⋅y₄⋅z₃ + x₃⋅y⋅z₂ - x₃⋅y⋅z₄ - x₃⋅y₂⋅z +\n",
       "──────────────────────────────────────────────────────────────────────────────\n",
       "                                                F                             \n",
       "\n",
       " x₃⋅y₂⋅z₄ + x₃⋅y₄⋅z - x₃⋅y₄⋅z₂ - x₄⋅y⋅z₂ + x₄⋅y⋅z₃ + x₄⋅y₂⋅z - x₄⋅y₂⋅z₃ - x₄⋅y\n",
       "──────────────────────────────────────────────────────────────────────────────\n",
       "                                                                              \n",
       "\n",
       "₃⋅z + x₄⋅y₃⋅z₂\n",
       "──────────────\n",
       "              "
      ]
     },
     "metadata": {},
     "output_type": "display_data"
    },
    {
     "data": {
      "image/png": "[encoded data removed]",
      "text/latex": [
       "$$L_{1} = - \\frac{1}{F} \\left(x y_{1} z_{3} - x y_{1} z_{4} - x y_{3} z_{1} + x y_{3} z_{4} + x y_{4} z_{1} - x y_{4} z_{3} - x_{1} y z_{3} + x_{1} y z_{4} + x_{1} y_{3} z - x_{1} y_{3} z_{4} - x_{1} y_{4} z + x_{1} y_{4} z_{3} + x_{3} y z_{1} - x_{3} y z_{4} - x_{3} y_{1} z + x_{3} y_{1} z_{4} + x_{3} y_{4} z - x_{3} y_{4} z_{1} - x_{4} y z_{1} + x_{4} y z_{3} + x_{4} y_{1} z - x_{4} y_{1} z_{3} - x_{4} y_{3} z + x_{4} y_{3} z_{1}\\right)$$"
      ],
      "text/plain": [
       "     -(x⋅y₁⋅z₃ - x⋅y₁⋅z₄ - x⋅y₃⋅z₁ + x⋅y₃⋅z₄ + x⋅y₄⋅z₁ - x⋅y₄⋅z₃ - x₁⋅y⋅z₃ + x\n",
       "L₁ = ─────────────────────────────────────────────────────────────────────────\n",
       "                                                                              \n",
       "\n",
       "₁⋅y⋅z₄ + x₁⋅y₃⋅z - x₁⋅y₃⋅z₄ - x₁⋅y₄⋅z + x₁⋅y₄⋅z₃ + x₃⋅y⋅z₁ - x₃⋅y⋅z₄ - x₃⋅y₁⋅z\n",
       "──────────────────────────────────────────────────────────────────────────────\n",
       "                                                  F                           \n",
       "\n",
       " + x₃⋅y₁⋅z₄ + x₃⋅y₄⋅z - x₃⋅y₄⋅z₁ - x₄⋅y⋅z₁ + x₄⋅y⋅z₃ + x₄⋅y₁⋅z - x₄⋅y₁⋅z₃ - x₄\n",
       "──────────────────────────────────────────────────────────────────────────────\n",
       "                                                                              \n",
       "\n",
       "⋅y₃⋅z + x₄⋅y₃⋅z₁) \n",
       "──────────────────\n",
       "                  "
      ]
     },
     "metadata": {},
     "output_type": "display_data"
    },
    {
     "data": {
      "image/png": "[encoded data removed]",
      "text/latex": [
       "$$L_{2} = \\frac{1}{F} \\left(x y_{1} z_{2} - x y_{1} z_{4} - x y_{2} z_{1} + x y_{2} z_{4} + x y_{4} z_{1} - x y_{4} z_{2} - x_{1} y z_{2} + x_{1} y z_{4} + x_{1} y_{2} z - x_{1} y_{2} z_{4} - x_{1} y_{4} z + x_{1} y_{4} z_{2} + x_{2} y z_{1} - x_{2} y z_{4} - x_{2} y_{1} z + x_{2} y_{1} z_{4} + x_{2} y_{4} z - x_{2} y_{4} z_{1} - x_{4} y z_{1} + x_{4} y z_{2} + x_{4} y_{1} z - x_{4} y_{1} z_{2} - x_{4} y_{2} z + x_{4} y_{2} z_{1}\\right)$$"
      ],
      "text/plain": [
       "     x⋅y₁⋅z₂ - x⋅y₁⋅z₄ - x⋅y₂⋅z₁ + x⋅y₂⋅z₄ + x⋅y₄⋅z₁ - x⋅y₄⋅z₂ - x₁⋅y⋅z₂ + x₁⋅\n",
       "L₂ = ─────────────────────────────────────────────────────────────────────────\n",
       "                                                                              \n",
       "\n",
       "y⋅z₄ + x₁⋅y₂⋅z - x₁⋅y₂⋅z₄ - x₁⋅y₄⋅z + x₁⋅y₄⋅z₂ + x₂⋅y⋅z₁ - x₂⋅y⋅z₄ - x₂⋅y₁⋅z +\n",
       "──────────────────────────────────────────────────────────────────────────────\n",
       "                                                F                             \n",
       "\n",
       " x₂⋅y₁⋅z₄ + x₂⋅y₄⋅z - x₂⋅y₄⋅z₁ - x₄⋅y⋅z₁ + x₄⋅y⋅z₂ + x₄⋅y₁⋅z - x₄⋅y₁⋅z₂ - x₄⋅y\n",
       "──────────────────────────────────────────────────────────────────────────────\n",
       "                                                                              \n",
       "\n",
       "₂⋅z + x₄⋅y₂⋅z₁\n",
       "──────────────\n",
       "              "
      ]
     },
     "metadata": {},
     "output_type": "display_data"
    },
    {
     "data": {
      "image/png": "[encoded data removed]",
      "text/latex": [
       "$$L_{3} = - \\frac{1}{F} \\left(x y_{1} z_{2} - x y_{1} z_{3} - x y_{2} z_{1} + x y_{2} z_{3} + x y_{3} z_{1} - x y_{3} z_{2} - x_{1} y z_{2} + x_{1} y z_{3} + x_{1} y_{2} z - x_{1} y_{2} z_{3} - x_{1} y_{3} z + x_{1} y_{3} z_{2} + x_{2} y z_{1} - x_{2} y z_{3} - x_{2} y_{1} z + x_{2} y_{1} z_{3} + x_{2} y_{3} z - x_{2} y_{3} z_{1} - x_{3} y z_{1} + x_{3} y z_{2} + x_{3} y_{1} z - x_{3} y_{1} z_{2} - x_{3} y_{2} z + x_{3} y_{2} z_{1}\\right)$$"
      ],
      "text/plain": [
       "     -(x⋅y₁⋅z₂ - x⋅y₁⋅z₃ - x⋅y₂⋅z₁ + x⋅y₂⋅z₃ + x⋅y₃⋅z₁ - x⋅y₃⋅z₂ - x₁⋅y⋅z₂ + x\n",
       "L₃ = ─────────────────────────────────────────────────────────────────────────\n",
       "                                                                              \n",
       "\n",
       "₁⋅y⋅z₃ + x₁⋅y₂⋅z - x₁⋅y₂⋅z₃ - x₁⋅y₃⋅z + x₁⋅y₃⋅z₂ + x₂⋅y⋅z₁ - x₂⋅y⋅z₃ - x₂⋅y₁⋅z\n",
       "──────────────────────────────────────────────────────────────────────────────\n",
       "                                                  F                           \n",
       "\n",
       " + x₂⋅y₁⋅z₃ + x₂⋅y₃⋅z - x₂⋅y₃⋅z₁ - x₃⋅y⋅z₁ + x₃⋅y⋅z₂ + x₃⋅y₁⋅z - x₃⋅y₁⋅z₂ - x₃\n",
       "──────────────────────────────────────────────────────────────────────────────\n",
       "                                                                              \n",
       "\n",
       "⋅y₂⋅z + x₃⋅y₂⋅z₁) \n",
       "──────────────────\n",
       "                  "
      ]
     },
     "metadata": {},
     "output_type": "display_data"
    },
    {
     "data": {
      "text/html": [
       "<b style=\"color:#009900\">Done in 1074.05 seconds</b>"
      ],
      "text/plain": [
       "<IPython.core.display.HTML object>"
      ]
     },
     "metadata": {},
     "output_type": "display_data"
    }
   ],
   "source": [
    "barycentric_transform = {}\n",
    "\n",
    "xs = x1, x2, x3, x4 = symbols('x(1:5)', real=True)\n",
    "ys = y1, y2, y3, y4 = symbols('y(1:5)', real=True)\n",
    "zs = z1, z2, z3, z4 = symbols('z(1:5)', real=True)\n",
    "x, y, z = symbols('x y z', real=True)\n",
    "\n",
    "for D in (2, 3):\n",
    "    display(HTML('<h3>Cartesian to barycentric %dD</h3>' % D))\n",
    "    t1 = time.time()\n",
    "    N = D + 1\n",
    "    \n",
    "    # Coefficients\n",
    "    Cs = symbols('C_(:%d)' % (N*D))\n",
    "\n",
    "    # Barycentric coordinates\n",
    "    if D == 2:\n",
    "        Ls = [Cs[0] + Cs[1]*x + Cs[2]*y,\n",
    "              Cs[3] + Cs[4]*x + Cs[5]*y]\n",
    "        Ls.append(1 - Ls[0] - Ls[1])\n",
    "    else:\n",
    "        Ls = [Cs[0] + Cs[1]*x + Cs[2]*y + Cs[3]*z,\n",
    "              Cs[4] + Cs[5]*x + Cs[6]*y + Cs[7]*z,\n",
    "              Cs[8] + Cs[9]*x + Cs[10]*y + Cs[11]*z,]\n",
    "        Ls.append(1 - Ls[0] - Ls[1] - Ls[2])\n",
    "\n",
    "    # Build equation system\n",
    "    eqs = []\n",
    "    # Loop over corners, i\n",
    "    for i in range(N):\n",
    "        vertex_pos = {x: xs[i], y: ys[i], z: zs[i]}\n",
    "        # Loop over barycentric coordinates, j\n",
    "        for j in range(N-1):\n",
    "            rhs = 1 if i == j else 0\n",
    "            eqs.append(Ls[j].subs(vertex_pos) - rhs)\n",
    "\n",
    "    display(Eq(Symbol('N_\\\\text{eq}'), len(eqs)))\n",
    "    display(Eq(Symbol('N_\\\\text{Cs}'), len(Cs)))\n",
    "\n",
    "    # Solve the equation system\n",
    "    display(HTML('<b style=\"color:#999900\">This is going to take some time, especially in 3D ...</b>'))\n",
    "    sol = solve(eqs, Cs)\n",
    "    \n",
    "    F = Symbol('F')\n",
    "    if D == 2:\n",
    "        fac = x1*y2 - x1*y3 - x2*y1 + x2*y3 + x3*y1 - x3*y2\n",
    "        #diff = fac - (y2 - y3)*(x1 - x3) + (x3 - x2)*(y1 - y3)\n",
    "        #display(expand(diff).simplify())\n",
    "    else:\n",
    "        fac = x1*y2*z3 - x1*y2*z4 - x1*y3*z2 + x1*y3*z4 + x1*y4*z2 - x1*y4*z3 - x2*y1*z3 + x2*y1*z4 + x2*y3*z1 - x2*y3*z4 - x2*y4*z1 + x2*y4*z3 + x3*y1*z2 - x3*y1*z4 - x3*y2*z1 + x3*y2*z4 + x3*y4*z1 - x3*y4*z2 - x4*y1*z2 + x4*y1*z3 + x4*y2*z1 - x4*y2*z3 - x4*y3*z1 + x4*y3*z2\n",
    "    display(Eq(F, factor(fac)))\n",
    "    \n",
    "    # Show the solution\n",
    "    Lsol = []\n",
    "    for i in range(N):\n",
    "        Li = (Ls[i] * fac).subs(sol).simplify()\n",
    "        Lsol.append(Li/F)\n",
    "        display(Eq(Symbol('L_%d' % i), factor(Lsol[-1])))\n",
    "    \n",
    "    barycentric_transform[D] = Lsol\n",
    "    display(HTML('<b style=\"color:#009900\">Done in %.2f seconds</b>' % (time.time() - t1)))\n"
   ]
  },
  {
   "cell_type": "markdown",
   "metadata": {},
   "source": [
    "## Code generation"
   ]
  },
  {
   "cell_type": "code",
   "execution_count": 6,
   "metadata": {
    "collapsed": false,
    "scrolled": true
   },
   "outputs": [
    {
     "data": {
      "text/html": [
       "<b>Code for 2D"
      ],
      "text/plain": [
       "<IPython.core.display.HTML object>"
      ]
     },
     "metadata": {},
     "output_type": "display_data"
    },
    {
     "data": {
      "text/html": [
       "<pre>L1f = (x*(y2 - y3) + x2*y3 - x3*y2 - y*(x2 - x3))/F\n",
       "L2f = (-x*(y1 - y3) - x1*y3 + x3*y1 + y*(x1 - x3))/F\n",
       "L3f = (x*y1 - x*y2 - x1*y + x1*y2 + x2*y - x2*y1)/F</pre>"
      ],
      "text/plain": [
       "<IPython.core.display.HTML object>"
      ]
     },
     "metadata": {},
     "output_type": "display_data"
    },
    {
     "data": {
      "text/html": [
       "<b>Code for 3D"
      ],
      "text/plain": [
       "<IPython.core.display.HTML object>"
      ]
     },
     "metadata": {},
     "output_type": "display_data"
    },
    {
     "data": {
      "text/html": [
       "<pre>L1f = (x*(y2*z3 - y2*z4 - y3*z2 + y3*z4 + y4*z2 - y4*z3) - x2*y3*z4 + x2*y4*z3 + x3*y2*z4 - x3*y4*z2 - x4*y2*z3 + x4*y3*z2 - y*(x2*z3 - x2*z4 - x3*z2 + x3*z4 + x4*z2 - x4*z3) + z*(x2*y3 - x2*y4 - x3*y2 + x3*y4 + x4*y2 - x4*y3))/F\n",
       "L2f = (-x*(y1*z3 - y1*z4 - y3*z1 + y3*z4 + y4*z1 - y4*z3) + x1*y3*z4 - x1*y4*z3 - x3*y1*z4 + x3*y4*z1 + x4*y1*z3 - x4*y3*z1 + y*(x1*z3 - x1*z4 - x3*z1 + x3*z4 + x4*z1 - x4*z3) - z*(x1*y3 - x1*y4 - x3*y1 + x3*y4 + x4*y1 - x4*y3))/F\n",
       "L3f = (x*(y1*z2 - y1*z4 - y2*z1 + y2*z4 + y4*z1 - y4*z2) - x1*y2*z4 + x1*y4*z2 + x2*y1*z4 - x2*y4*z1 - x4*y1*z2 + x4*y2*z1 - y*(x1*z2 - x1*z4 - x2*z1 + x2*z4 + x4*z1 - x4*z2) + z*(x1*y2 - x1*y4 - x2*y1 + x2*y4 + x4*y1 - x4*y2))/F\n",
       "L4f = (-x*y1*z2 + x*y1*z3 + x*y2*z1 - x*y2*z3 - x*y3*z1 + x*y3*z2 + x1*y*z2 - x1*y*z3 - x1*y2*z + x1*y2*z3 + x1*y3*z - x1*y3*z2 - x2*y*z1 + x2*y*z3 + x2*y1*z - x2*y1*z3 - x2*y3*z + x2*y3*z1 + x3*y*z1 - x3*y*z2 - x3*y1*z + x3*y1*z2 + x3*y2*z - x3*y2*z1)/F</pre>"
      ],
      "text/plain": [
       "<IPython.core.display.HTML object>"
      ]
     },
     "metadata": {},
     "output_type": "display_data"
    }
   ],
   "source": [
    "def tocode(Li):\n",
    "    return str(Li)\n",
    "\n",
    "for D, Ls in barycentric_transform.items():\n",
    "    display(HTML('<b>Code for %dD' % D))\n",
    "    s = '\\n'.join('L%df = %s' % (i + 1, tocode(Li)) for i, Li in enumerate(Ls))\n",
    "    display(HTML('<pre>' + s + '</pre>'))\n"
   ]
  },
  {
   "cell_type": "markdown",
   "metadata": {},
   "source": [
    "### Test implementation against known answers"
   ]
  },
  {
   "cell_type": "code",
   "execution_count": 7,
   "metadata": {
    "collapsed": false
   },
   "outputs": [
    {
     "data": {
      "text/html": [
       "<b>Code for 2D"
      ],
      "text/plain": [
       "<IPython.core.display.HTML object>"
      ]
     },
     "metadata": {},
     "output_type": "display_data"
    },
    {
     "data": {
      "image/png": "[encoded data removed]",
      "text/latex": [
       "$$F = 1$$"
      ],
      "text/plain": [
       "F = 1"
      ]
     },
     "metadata": {},
     "output_type": "display_data"
    },
    {
     "data": {
      "image/png": "[encoded data removed]",
      "text/latex": [
       "$$L_{0}\\,F = - x + 2 y$$"
      ],
      "text/plain": [
       "L_{0}\\,F = -x + 2⋅y"
      ]
     },
     "metadata": {},
     "output_type": "display_data"
    },
    {
     "data": {
      "image/png": "[encoded data removed]",
      "text/latex": [
       "$$L_{1}\\,F = x - 3 y + 2$$"
      ],
      "text/plain": [
       "L_{1}\\,F = x - 3⋅y + 2"
      ]
     },
     "metadata": {},
     "output_type": "display_data"
    },
    {
     "data": {
      "image/png": "[encoded data removed]",
      "text/latex": [
       "$$L_{2}\\,F = y - 1$$"
      ],
      "text/plain": [
       "L_{2}\\,F = y - 1"
      ]
     },
     "metadata": {},
     "output_type": "display_data"
    },
    {
     "data": {
      "text/html": [
       "<b>Code for 3D"
      ],
      "text/plain": [
       "<IPython.core.display.HTML object>"
      ]
     },
     "metadata": {},
     "output_type": "display_data"
    },
    {
     "data": {
      "image/png": "[encoded data removed]",
      "text/latex": [
       "$$F = 2$$"
      ],
      "text/plain": [
       "F = 2"
      ]
     },
     "metadata": {},
     "output_type": "display_data"
    },
    {
     "data": {
      "image/png": "[encoded data removed]",
      "text/latex": [
       "$$L_{0}\\,F = x + y - 3 z + 3$$"
      ],
      "text/plain": [
       "L_{0}\\,F = x + y - 3⋅z + 3"
      ]
     },
     "metadata": {},
     "output_type": "display_data"
    },
    {
     "data": {
      "image/png": "[encoded data removed]",
      "text/latex": [
       "$$L_{1}\\,F = - x - 3 y + 3 z + 1$$"
      ],
      "text/plain": [
       "L_{1}\\,F = -x - 3⋅y + 3⋅z + 1"
      ]
     },
     "metadata": {},
     "output_type": "display_data"
    },
    {
     "data": {
      "image/png": "[encoded data removed]",
      "text/latex": [
       "$$L_{2}\\,F = - x + 3 y + z - 3$$"
      ],
      "text/plain": [
       "L_{2}\\,F = -x + 3⋅y + z - 3"
      ]
     },
     "metadata": {},
     "output_type": "display_data"
    },
    {
     "data": {
      "image/png": "[encoded data removed]",
      "text/latex": [
       "$$L_{3}\\,F = x - y - z + 1$$"
      ],
      "text/plain": [
       "L_{3}\\,F = x - y - z + 1"
      ]
     },
     "metadata": {},
     "output_type": "display_data"
    }
   ],
   "source": [
    "# First we check for linearity\n",
    "cell = {x1: 1, y1: 1, z1: 1,\n",
    "        x2: 2, y2: 1, z2: 2,\n",
    "        x3: 4, y3: 2, z3: 3,\n",
    "        x4: 7, y4: 2, z4: 4}\n",
    "Fs = {2: x1*y2 - x1*y3 - x2*y1 + x2*y3 + x3*y1 - x3*y2,\n",
    "      3: x1*y2*z3 - x1*y2*z4 - x1*y3*z2 + x1*y3*z4 + x1*y4*z2 - x1*y4*z3 - x2*y1*z3 + x2*y1*z4 + x2*y3*z1 - x2*y3*z4 - x2*y4*z1 + x2*y4*z3 + x3*y1*z2 - x3*y1*z4 - x3*y2*z1 + x3*y2*z4 + x3*y4*z1 - x3*y4*z2 - x4*y1*z2 + x4*y1*z3 + x4*y2*z1 - x4*y2*z3 - x4*y3*z1 + x4*y3*z2}\n",
    "for D, Ls in barycentric_transform.items():\n",
    "    display(HTML('<b>Code for %dD' % D))\n",
    "    display(Eq(Symbol('F'), Fs[D].subs(cell)))\n",
    "    for i, L in enumerate(Ls):\n",
    "        LF = (L*F).subs(cell).subs(F, Fs[D].subs(cell)).simplify()\n",
    "        display(Eq(Symbol('L_{%d}\\\\,F' % i), LF))"
   ]
  },
  {
   "cell_type": "code",
   "execution_count": 8,
   "metadata": {
    "collapsed": false
   },
   "outputs": [
    {
     "name": "stdout",
     "output_type": "stream",
     "text": [
      "Testing 2D cells\n",
      "Checking cell [(0, 0), (1, 0), (0, 1)] ... OK\n",
      "Checking cell [(1, 1), (1, 0), (0, 1)] ... OK\n",
      "Checking cell [(1, 1), (2, 1), (4, 2)] ... OK\n",
      "Checking cell [(-3, 4), (8, -1), (-15, -1)] ... OK\n",
      "Testing 3D cells\n",
      "Checking cell [(0, 0, 0), (1, 0, 0), (0, 1, 0), (0, 0, 1)] ... OK\n",
      "Checking cell [(0, 0, 0), (1, 0, 0), (0, 1, 0), (1, 1, 1)] ... OK\n",
      "Checking cell [(1, 1, 1), (2, 1, 2), (4, 2, 3), (7, 2, 4)] ... OK\n",
      "Checking cell [(-4, 2, 33), (-2, -1, -50), (-10, 1, -30), (55, 22, -30)] ... OK\n"
     ]
    }
   ],
   "source": [
    "def test_cell_2D(vertices):\n",
    "    print('Checking cell', vertices, '...', end=' ')\n",
    "    x1, y1 = vertices[0]\n",
    "    x2, y2 = vertices[1]\n",
    "    x3, y3 = vertices[2]\n",
    "    \n",
    "    def our(x, y):\n",
    "        \"Our solution\"\n",
    "        F = x1*y2 - x1*y3 - x2*y1 + x2*y3 + x3*y1 - x3*y2\n",
    "        L1f = (x*(y2 - y3) + x2*y3 - x3*y2 - y*(x2 - x3))/F\n",
    "        L2f = (-x*(y1 - y3) - x1*y3 + x3*y1 + y*(x1 - x3))/F\n",
    "        L3f = (x*y1 - x*y2 - x1*y + x1*y2 + x2*y - x2*y1)/F\n",
    "        return L1f, L2f, L3f\n",
    "    \n",
    "    def ref(x, y):\n",
    "        D = (y2 - y3)*(x1 - x3) + (x3 - x2)*(y1 - y3)\n",
    "        L1f = ((y2 - y3)*(x - x3) + (x3 - x2)*(y - y3))/D\n",
    "        L2f = ((y3 - y1)*(x - x3) + (x1 - x3)*(y - y3))/D\n",
    "        L3f = 1 - L1f - L2f\n",
    "        return L1f, L2f, L3f\n",
    "    \n",
    "    # Generate some positions to check\n",
    "    other_positions = []\n",
    "    for A, B in [(1/3, 1/3), (1/2, 1/4), (1/4, 1/2),\n",
    "                 (3/5, 1/5), (1/5, 3/5), (1/5, 1/5)]:\n",
    "        C = 1 - A - B\n",
    "        other_positions.append((A*x1 + B*x2 + C*x3,\n",
    "                                A*y1 + B*y2 + C*y3))\n",
    "    \n",
    "    OK = True\n",
    "    for v in vertices + other_positions:\n",
    "        #print('Checking', v)\n",
    "        o1, o2, o3 = our(v[0], v[1])\n",
    "        r1, r2, r3 = ref(v[0], v[1])\n",
    "        for o, r in zip((o1, o2, o3), (r1, r2, r3)):\n",
    "            if not abs(o - r) < 1e-15:\n",
    "                print(o, '-', r, '=', o-r, '   <-- ERROR!!!')\n",
    "                OK = False\n",
    "    \n",
    "    print('OK' if OK else 'ERROR')\n",
    "\n",
    "print('Testing 2D cells')\n",
    "test_cell_2D([(0, 0), (1, 0), (0, 1)])\n",
    "test_cell_2D([(1, 1), (1, 0), (0, 1)])\n",
    "test_cell_2D([(cell[x1], cell[y1]),\n",
    "              (cell[x2], cell[y2]),\n",
    "              (cell[x3], cell[y3])])\n",
    "test_cell_2D([(-3, 4), (8, -1), (-15, -1)])\n",
    "\n",
    "def test_cell_3D(vertices):\n",
    "    print('Checking cell', vertices, '...', end=' ')\n",
    "    x1, y1, z1 = vertices[0]\n",
    "    x2, y2, z2 = vertices[1]\n",
    "    x3, y3, z3 = vertices[2]\n",
    "    x4, y4, z4 = vertices[3]\n",
    "    \n",
    "    def our(x, y, z):\n",
    "        \"Our solution\"\n",
    "        F = x1*y2*z3 - x1*y2*z4 - x1*y3*z2 + x1*y3*z4 + x1*y4*z2 - x1*y4*z3 - x2*y1*z3 + x2*y1*z4 + x2*y3*z1 - x2*y3*z4 - x2*y4*z1 + x2*y4*z3 + x3*y1*z2 - x3*y1*z4 - x3*y2*z1 + x3*y2*z4 + x3*y4*z1 - x3*y4*z2 - x4*y1*z2 + x4*y1*z3 + x4*y2*z1 - x4*y2*z3 - x4*y3*z1 + x4*y3*z2\n",
    "        L1f = (x*(y2*z3 - y2*z4 - y3*z2 + y3*z4 + y4*z2 - y4*z3) - x2*y3*z4 + x2*y4*z3 + x3*y2*z4 - x3*y4*z2 - x4*y2*z3 + x4*y3*z2 - y*(x2*z3 - x2*z4 - x3*z2 + x3*z4 + x4*z2 - x4*z3) + z*(x2*y3 - x2*y4 - x3*y2 + x3*y4 + x4*y2 - x4*y3))/F\n",
    "        L2f = (-x*(y1*z3 - y1*z4 - y3*z1 + y3*z4 + y4*z1 - y4*z3) + x1*y3*z4 - x1*y4*z3 - x3*y1*z4 + x3*y4*z1 + x4*y1*z3 - x4*y3*z1 + y*(x1*z3 - x1*z4 - x3*z1 + x3*z4 + x4*z1 - x4*z3) - z*(x1*y3 - x1*y4 - x3*y1 + x3*y4 + x4*y1 - x4*y3))/F\n",
    "        L3f = (x*(y1*z2 - y1*z4 - y2*z1 + y2*z4 + y4*z1 - y4*z2) - x1*y2*z4 + x1*y4*z2 + x2*y1*z4 - x2*y4*z1 - x4*y1*z2 + x4*y2*z1 - y*(x1*z2 - x1*z4 - x2*z1 + x2*z4 + x4*z1 - x4*z2) + z*(x1*y2 - x1*y4 - x2*y1 + x2*y4 + x4*y1 - x4*y2))/F\n",
    "        L4f = (-x*y1*z2 + x*y1*z3 + x*y2*z1 - x*y2*z3 - x*y3*z1 + x*y3*z2 + x1*y*z2 - x1*y*z3 - x1*y2*z + x1*y2*z3 + x1*y3*z - x1*y3*z2 - x2*y*z1 + x2*y*z3 + x2*y1*z - x2*y1*z3 - x2*y3*z + x2*y3*z1 + x3*y*z1 - x3*y*z2 - x3*y1*z + x3*y1*z2 + x3*y2*z - x3*y2*z1)/F\n",
    "        return L1f, L2f, L3f, L4f\n",
    "    \n",
    "    def ref(x, y, z):\n",
    "        if (x, y, z) == vertices[0]:\n",
    "            return 1, 0, 0, 0\n",
    "        elif (x, y, z) == vertices[1]:\n",
    "            return 0, 1, 0, 0\n",
    "        elif (x, y, z) == vertices[2]:\n",
    "            return 0, 0, 1, 0\n",
    "        elif (x, y, z) == vertices[3]:\n",
    "            return 0, 0, 0, 1\n",
    "        elif (x, y, z) == other_positions[0]: # centroid\n",
    "            return 1/4, 1/4, 1/4, 1/4\n",
    "    \n",
    "    ## Generate some positions to check\n",
    "    other_positions = []\n",
    "    for A, B, C in [(1/4, 1/4, 1/4)]:\n",
    "        D = 1 - A - B - C\n",
    "        other_positions.append((A*x1 + B*x2 + C*x3 + D*x4,\n",
    "                                A*y1 + B*y2 + C*y3 + D*y4,\n",
    "                                A*z1 + B*z2 + C*z3 + D*z4))\n",
    "    \n",
    "    OK = True\n",
    "    for v in vertices + other_positions:\n",
    "        #print('Checking', v)\n",
    "        os = our(v[0], v[1], v[2])\n",
    "        rs = ref(v[0], v[1], v[2])\n",
    "        for i in range(4):\n",
    "            o, r = os[i], rs[i]\n",
    "            #print('    %d: % .2f - % .2f = % .2f' % (i, o, r, o-r),\n",
    "            #      '   <-- ERROR!!!' if not abs(o - r) < 1e-15 else '')\n",
    "            if not abs(o - r) < 1e-15:\n",
    "                OK = False\n",
    "    \n",
    "    print('OK' if OK else 'ERROR')\n",
    "\n",
    "print('Testing 3D cells')\n",
    "test_cell_3D([(0, 0, 0), (1, 0, 0), (0, 1, 0), (0, 0, 1)])\n",
    "test_cell_3D([(0, 0, 0), (1, 0, 0), (0, 1, 0), (1, 1, 1)])\n",
    "test_cell_3D([(cell[x1], cell[y1], cell[z1]),\n",
    "              (cell[x2], cell[y2], cell[z2]),\n",
    "              (cell[x3], cell[y3], cell[z3]),\n",
    "              (cell[x4], cell[y4], cell[z4])])\n",
    "test_cell_3D([(-4, 2, 33), (-2, -1, -50), (-10, 1, -30), (55, 22, -30)])"
   ]
  },
  {
   "cell_type": "code",
   "execution_count": null,
   "metadata": {
    "collapsed": true
   },
   "outputs": [],
   "source": []
  }
 ],
 "metadata": {
  "kernelspec": {
   "display_name": "Python 3",
   "language": "python",
   "name": "python3"
  },
  "language_info": {
   "codemirror_mode": {
    "name": "ipython",
    "version": 3
   },
   "file_extension": ".py",
   "mimetype": "text/x-python",
   "name": "python",
   "nbconvert_exporter": "python",
   "pygments_lexer": "ipython3",
   "version": "3.6.3"
  }
 },
 "nbformat": 4,
 "nbformat_minor": 2
}
